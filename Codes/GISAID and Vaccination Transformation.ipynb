{
 "cells": [
  {
   "cell_type": "markdown",
   "id": "c4d0990c",
   "metadata": {},
   "source": [
    "# GISAID Transformation"
   ]
  },
  {
   "cell_type": "code",
   "execution_count": 1,
   "id": "04a9f7f9",
   "metadata": {},
   "outputs": [],
   "source": [
    "import pandas as pd\n",
    "\n",
    "# Load the Excel file\n",
    "file_path = 'gisaid_variants_statistics_2024_11_02_2052.xlsx'\n",
    "excel_data = pd.ExcelFile(file_path)\n",
    "\n",
    "# Initialize an empty DataFrame to store the final data\n",
    "final_df = pd.DataFrame(columns=['Country', 'Attribute', 'Value', 'Variant'])\n",
    "\n"
   ]
  },
  {
   "cell_type": "code",
   "execution_count": 2,
   "id": "a703b32f",
   "metadata": {},
   "outputs": [
    {
     "name": "stdout",
     "output_type": "stream",
     "text": [
      "df_Omicron created\n",
      "df_Delta created\n",
      "df_Alpha created\n",
      "df_Beta created\n",
      "df_Gamma created\n",
      "df_Epsilon created\n",
      "df_Zeta created\n",
      "df_Eta created\n",
      "df_Theta created\n",
      "df_Iota created\n",
      "df_Kappa created\n",
      "df_Lambda created\n"
     ]
    }
   ],
   "source": [
    "for i, sheet_name in enumerate(excel_data.sheet_names[1:], start=1):\n",
    "    # Read the sheet into a DataFrame\n",
    "    df = pd.read_excel(excel_data, sheet_name=sheet_name)\n",
    "    \n",
    "    # Extract the variant name from the sheet name\n",
    "    variant_name = sheet_name.split()[-1]\n",
    "    \n",
    "    # Create a variable with the variant name and assign the DataFrame to it\n",
    "    globals()[f'df_{variant_name}'] = df\n",
    "    # Print the variant name or store it somewhere if needed\n",
    "    print(f'df_{variant_name} created')"
   ]
  },
  {
   "cell_type": "code",
   "execution_count": 3,
   "id": "3b36a1c4",
   "metadata": {},
   "outputs": [
    {
     "name": "stderr",
     "output_type": "stream",
     "text": [
      "C:\\Users\\sharm\\AppData\\Local\\Temp\\ipykernel_5148\\4205344510.py:25: FutureWarning: A value is trying to be set on a copy of a DataFrame or Series through chained assignment using an inplace method.\n",
      "The behavior will change in pandas 3.0. This inplace method will never work because the intermediate object on which we are setting values always behaves as a copy.\n",
      "\n",
      "For example, when doing 'df[col].method(value, inplace=True)', try using 'df.method({col: value}, inplace=True)' or df[col] = df[col].method(value) instead, to perform the operation inplace on the original object.\n",
      "\n",
      "\n",
      "  df['Value'].fillna(0, inplace=True)\n",
      "C:\\Users\\sharm\\AppData\\Local\\Temp\\ipykernel_5148\\4205344510.py:25: FutureWarning: A value is trying to be set on a copy of a DataFrame or Series through chained assignment using an inplace method.\n",
      "The behavior will change in pandas 3.0. This inplace method will never work because the intermediate object on which we are setting values always behaves as a copy.\n",
      "\n",
      "For example, when doing 'df[col].method(value, inplace=True)', try using 'df.method({col: value}, inplace=True)' or df[col] = df[col].method(value) instead, to perform the operation inplace on the original object.\n",
      "\n",
      "\n",
      "  df['Value'].fillna(0, inplace=True)\n",
      "C:\\Users\\sharm\\AppData\\Local\\Temp\\ipykernel_5148\\4205344510.py:25: FutureWarning: A value is trying to be set on a copy of a DataFrame or Series through chained assignment using an inplace method.\n",
      "The behavior will change in pandas 3.0. This inplace method will never work because the intermediate object on which we are setting values always behaves as a copy.\n",
      "\n",
      "For example, when doing 'df[col].method(value, inplace=True)', try using 'df.method({col: value}, inplace=True)' or df[col] = df[col].method(value) instead, to perform the operation inplace on the original object.\n",
      "\n",
      "\n",
      "  df['Value'].fillna(0, inplace=True)\n",
      "C:\\Users\\sharm\\AppData\\Local\\Temp\\ipykernel_5148\\4205344510.py:25: FutureWarning: A value is trying to be set on a copy of a DataFrame or Series through chained assignment using an inplace method.\n",
      "The behavior will change in pandas 3.0. This inplace method will never work because the intermediate object on which we are setting values always behaves as a copy.\n",
      "\n",
      "For example, when doing 'df[col].method(value, inplace=True)', try using 'df.method({col: value}, inplace=True)' or df[col] = df[col].method(value) instead, to perform the operation inplace on the original object.\n",
      "\n",
      "\n",
      "  df['Value'].fillna(0, inplace=True)\n",
      "C:\\Users\\sharm\\AppData\\Local\\Temp\\ipykernel_5148\\4205344510.py:25: FutureWarning: A value is trying to be set on a copy of a DataFrame or Series through chained assignment using an inplace method.\n",
      "The behavior will change in pandas 3.0. This inplace method will never work because the intermediate object on which we are setting values always behaves as a copy.\n",
      "\n",
      "For example, when doing 'df[col].method(value, inplace=True)', try using 'df.method({col: value}, inplace=True)' or df[col] = df[col].method(value) instead, to perform the operation inplace on the original object.\n",
      "\n",
      "\n",
      "  df['Value'].fillna(0, inplace=True)\n",
      "C:\\Users\\sharm\\AppData\\Local\\Temp\\ipykernel_5148\\4205344510.py:25: FutureWarning: A value is trying to be set on a copy of a DataFrame or Series through chained assignment using an inplace method.\n",
      "The behavior will change in pandas 3.0. This inplace method will never work because the intermediate object on which we are setting values always behaves as a copy.\n",
      "\n",
      "For example, when doing 'df[col].method(value, inplace=True)', try using 'df.method({col: value}, inplace=True)' or df[col] = df[col].method(value) instead, to perform the operation inplace on the original object.\n",
      "\n",
      "\n",
      "  df['Value'].fillna(0, inplace=True)\n",
      "C:\\Users\\sharm\\AppData\\Local\\Temp\\ipykernel_5148\\4205344510.py:25: FutureWarning: A value is trying to be set on a copy of a DataFrame or Series through chained assignment using an inplace method.\n",
      "The behavior will change in pandas 3.0. This inplace method will never work because the intermediate object on which we are setting values always behaves as a copy.\n",
      "\n",
      "For example, when doing 'df[col].method(value, inplace=True)', try using 'df.method({col: value}, inplace=True)' or df[col] = df[col].method(value) instead, to perform the operation inplace on the original object.\n",
      "\n",
      "\n",
      "  df['Value'].fillna(0, inplace=True)\n",
      "C:\\Users\\sharm\\AppData\\Local\\Temp\\ipykernel_5148\\4205344510.py:25: FutureWarning: A value is trying to be set on a copy of a DataFrame or Series through chained assignment using an inplace method.\n",
      "The behavior will change in pandas 3.0. This inplace method will never work because the intermediate object on which we are setting values always behaves as a copy.\n",
      "\n",
      "For example, when doing 'df[col].method(value, inplace=True)', try using 'df.method({col: value}, inplace=True)' or df[col] = df[col].method(value) instead, to perform the operation inplace on the original object.\n",
      "\n",
      "\n",
      "  df['Value'].fillna(0, inplace=True)\n",
      "C:\\Users\\sharm\\AppData\\Local\\Temp\\ipykernel_5148\\4205344510.py:25: FutureWarning: A value is trying to be set on a copy of a DataFrame or Series through chained assignment using an inplace method.\n",
      "The behavior will change in pandas 3.0. This inplace method will never work because the intermediate object on which we are setting values always behaves as a copy.\n",
      "\n",
      "For example, when doing 'df[col].method(value, inplace=True)', try using 'df.method({col: value}, inplace=True)' or df[col] = df[col].method(value) instead, to perform the operation inplace on the original object.\n",
      "\n",
      "\n",
      "  df['Value'].fillna(0, inplace=True)\n",
      "C:\\Users\\sharm\\AppData\\Local\\Temp\\ipykernel_5148\\4205344510.py:25: FutureWarning: A value is trying to be set on a copy of a DataFrame or Series through chained assignment using an inplace method.\n",
      "The behavior will change in pandas 3.0. This inplace method will never work because the intermediate object on which we are setting values always behaves as a copy.\n",
      "\n",
      "For example, when doing 'df[col].method(value, inplace=True)', try using 'df.method({col: value}, inplace=True)' or df[col] = df[col].method(value) instead, to perform the operation inplace on the original object.\n",
      "\n",
      "\n",
      "  df['Value'].fillna(0, inplace=True)\n",
      "C:\\Users\\sharm\\AppData\\Local\\Temp\\ipykernel_5148\\4205344510.py:25: FutureWarning: A value is trying to be set on a copy of a DataFrame or Series through chained assignment using an inplace method.\n",
      "The behavior will change in pandas 3.0. This inplace method will never work because the intermediate object on which we are setting values always behaves as a copy.\n",
      "\n",
      "For example, when doing 'df[col].method(value, inplace=True)', try using 'df.method({col: value}, inplace=True)' or df[col] = df[col].method(value) instead, to perform the operation inplace on the original object.\n",
      "\n",
      "\n",
      "  df['Value'].fillna(0, inplace=True)\n"
     ]
    },
    {
     "name": "stdout",
     "output_type": "stream",
     "text": [
      "          country        Date  Value  Variant\n",
      "0     Afghanistan  2019-12-29    0.0  Omicron\n",
      "1         Albania  2019-12-29    0.0  Omicron\n",
      "2         Algeria  2019-12-29    0.0  Omicron\n",
      "3  American Samoa  2019-12-29    0.0  Omicron\n",
      "4         Andorra  2019-12-29    0.0  Omicron\n"
     ]
    },
    {
     "name": "stderr",
     "output_type": "stream",
     "text": [
      "C:\\Users\\sharm\\AppData\\Local\\Temp\\ipykernel_5148\\4205344510.py:25: FutureWarning: A value is trying to be set on a copy of a DataFrame or Series through chained assignment using an inplace method.\n",
      "The behavior will change in pandas 3.0. This inplace method will never work because the intermediate object on which we are setting values always behaves as a copy.\n",
      "\n",
      "For example, when doing 'df[col].method(value, inplace=True)', try using 'df.method({col: value}, inplace=True)' or df[col] = df[col].method(value) instead, to perform the operation inplace on the original object.\n",
      "\n",
      "\n",
      "  df['Value'].fillna(0, inplace=True)\n"
     ]
    }
   ],
   "source": [
    "# List to store all DataFrames\n",
    "all_dfs = []\n",
    "\n",
    "# Loop through the sheet names starting from the second sheet\n",
    "for sheet_name in excel_data.sheet_names[1:]:\n",
    "    # Read the sheet into a DataFrame\n",
    "    df = pd.read_excel(excel_data, sheet_name=sheet_name)\n",
    "    \n",
    "    # Extract the variant name from the sheet name\n",
    "    variant_name = sheet_name.split()[-1]\n",
    "    \n",
    "    # Rename the first column to 'country'\n",
    "    df.columns = ['country'] + list(df.columns[1:])\n",
    "    \n",
    "    # Remove rows where the 'country' column has NaN values\n",
    "    df = df.dropna(subset=['country'])\n",
    "    \n",
    "    # Remove the second column\n",
    "    df.drop(df.columns[1], axis=1, inplace=True)\n",
    "    \n",
    "    # Reshape the DataFrame\n",
    "    df = pd.melt(df, id_vars=['country'], var_name='Date', value_name='Value')\n",
    "    \n",
    "    # Change NaN values to 0 in the 'Value' column\n",
    "    df['Value'].fillna(0, inplace=True)\n",
    "    \n",
    "    # Add a column for the variant name\n",
    "    df['Variant'] = variant_name\n",
    "    \n",
    "    # Append the DataFrame to the list\n",
    "    all_dfs.append(df)\n",
    "    \n",
    "\n",
    "# Combine all DataFrames into one\n",
    "combined_df = pd.concat(all_dfs, ignore_index=True)\n",
    "\n",
    "# Display the first few rows of the combined DataFrame to verify\n",
    "print(combined_df.head())\n"
   ]
  },
  {
   "cell_type": "code",
   "execution_count": 4,
   "id": "1e6def1b",
   "metadata": {},
   "outputs": [
    {
     "data": {
      "text/plain": [
       "array(['Omicron', 'Delta', 'Alpha', 'Beta', 'Gamma', 'Epsilon', 'Zeta',\n",
       "       'Eta', 'Theta', 'Iota', 'Kappa', 'Lambda'], dtype=object)"
      ]
     },
     "execution_count": 4,
     "metadata": {},
     "output_type": "execute_result"
    }
   ],
   "source": [
    "combined_df['Variant'].unique()"
   ]
  },
  {
   "cell_type": "code",
   "execution_count": 5,
   "id": "3fc7d4d9",
   "metadata": {},
   "outputs": [
    {
     "name": "stderr",
     "output_type": "stream",
     "text": [
      "C:\\Users\\sharm\\AppData\\Local\\Temp\\ipykernel_25904\\2505915625.py:1: UserWarning: Pandas requires version '3.0.5' or newer of 'xlsxwriter' (version '3.0.3' currently installed).\n",
      "  combined_df.to_excel('Combined_all_1.xlsx', index=False)\n"
     ]
    }
   ],
   "source": [
    "combined_df.to_excel('Combined_all_1.xlsx', index=False)"
   ]
  },
  {
   "cell_type": "code",
   "execution_count": 26,
   "id": "9928cc53",
   "metadata": {},
   "outputs": [
    {
     "data": {
      "text/plain": [
       "array(['Afghanistan', 'Albania', 'Algeria', 'American Samoa', 'Andorra',\n",
       "       'Angola', 'Anguilla', 'Antigua and Barbuda', 'Argentina',\n",
       "       'Armenia', 'Aruba', 'Australia', 'Austria', 'Azerbaijan',\n",
       "       'Bahrain', 'Bangladesh', 'Barbados', 'Belarus', 'Belgium',\n",
       "       'Belize', 'Benin', 'Bermuda', 'Bhutan', 'Bolivia', 'Bonaire',\n",
       "       'Bosnia and Herzegovina', 'Botswana', 'Brazil',\n",
       "       'British Virgin Islands', 'Brunei', 'Bulgaria', 'Burkina Faso',\n",
       "       'Burundi', 'Cabo Verde', 'Cambodia', 'Cameroon', 'Canada',\n",
       "       'Canary Islands', 'Cayman Islands', 'Central African Republic',\n",
       "       'Chad', 'Chile', 'China', 'Colombia', 'Comoros', 'Cook Islands',\n",
       "       'Costa Rica', \"Cote d'Ivoire\", 'Crimea', 'Croatia', 'Cuba',\n",
       "       'Curacao', 'Cyprus', 'Czech Republic',\n",
       "       'Democratic Republic of the Congo', 'Denmark', 'Djibouti',\n",
       "       'Dominica', 'Dominican Republic', 'Ecuador', 'Egypt',\n",
       "       'El Salvador', 'Equatorial Guinea', 'Estonia', 'Eswatini',\n",
       "       'Ethiopia', 'Finland', 'France', 'French Guiana',\n",
       "       'French Polynesia', 'Gabon', 'Gambia', 'Georgia', 'Germany',\n",
       "       'Ghana', 'Gibraltar', 'Greece', 'Grenada', 'Guadeloupe', 'Guam',\n",
       "       'Guatemala', 'Guinea', 'Guyana', 'Haiti', 'Honduras', 'Hong Kong',\n",
       "       'Hungary', 'Iceland', 'India', 'Indonesia', 'Iran', 'Iraq',\n",
       "       'Ireland', 'Israel', 'Italy', 'Jamaica', 'Japan', 'Jordan',\n",
       "       'Kazakhstan', 'Kenya', 'Kiribati', 'Kosovo', 'Kuwait',\n",
       "       'Kyrgyzstan', 'Laos', 'Latvia', 'Lebanon', 'Lesotho', 'Liberia',\n",
       "       'Libya', 'Liechtenstein', 'Lithuania', 'Luxembourg', 'Madagascar',\n",
       "       'Malawi', 'Malaysia', 'Maldives', 'Mali', 'Malta',\n",
       "       'Marshall Islands', 'Martinique', 'Mauritania', 'Mauritius',\n",
       "       'Mayotte', 'Mexico', 'Micronesia', 'Moldova', 'Monaco', 'Mongolia',\n",
       "       'Montenegro', 'Montserrat', 'Morocco', 'Mozambique', 'Myanmar',\n",
       "       'Namibia', 'Nepal', 'Netherlands', 'New Caledonia', 'New Zealand',\n",
       "       'Nicaragua', 'Niger', 'Nigeria', 'Niue', 'North Macedonia',\n",
       "       'Northern Mariana Islands', 'Norway', 'Oman', 'Pakistan', 'Palau',\n",
       "       'Palestine', 'Panama', 'Papua New Guinea', 'Paraguay', 'Peru',\n",
       "       'Philippines', 'Poland', 'Portugal', 'Puerto Rico', 'Qatar',\n",
       "       'Republic of the Congo', 'Reunion', 'Romania', 'Russia', 'Rwanda',\n",
       "       'Saint Kitts and Nevis', 'Saint Lucia', 'Saint Martin',\n",
       "       'Saint Vincent and the Grenadines', 'Samoa', 'Saudi Arabia',\n",
       "       'Senegal', 'Serbia', 'Seychelles', 'Sierra Leone', 'Singapore',\n",
       "       'Sint Maarten', 'Slovakia', 'Slovenia', 'Solomon Islands',\n",
       "       'Somalia', 'South Africa', 'South Korea', 'South Sudan', 'Spain',\n",
       "       'Sri Lanka', 'Sudan', 'Suriname', 'Sweden', 'Switzerland', 'Syria',\n",
       "       'Taiwan', 'Tanzania', 'Thailand', 'The Bahamas', 'Togo', 'Tonga',\n",
       "       'Trinidad and Tobago', 'Tunisia', 'Turkey',\n",
       "       'Turks and Caicos Islands', 'U.S. Virgin Islands', 'USA', 'Uganda',\n",
       "       'Ukraine', 'United Arab Emirates', 'United Kingdom', 'Uruguay',\n",
       "       'Uzbekistan', 'Vanuatu', 'Venezuela', 'Vietnam', 'Zambia',\n",
       "       'Zimbabwe', 'Fiji', 'Jersey', 'Saint Barthelemy',\n",
       "       'Sao Tome and Principe', 'Timor-Leste', 'Faroe Islands',\n",
       "       'Guinea-Bissau', 'Wallis and Futuna Islands'], dtype=object)"
      ]
     },
     "execution_count": 26,
     "metadata": {},
     "output_type": "execute_result"
    }
   ],
   "source": [
    "combined_df['country'].unique()"
   ]
  },
  {
   "cell_type": "markdown",
   "id": "f01d2bea",
   "metadata": {},
   "source": [
    "# Vaccination Transformation world covid data."
   ]
  },
  {
   "cell_type": "code",
   "execution_count": 18,
   "id": "1237917b",
   "metadata": {},
   "outputs": [],
   "source": [
    "import pandas as pd\n",
    "\n",
    "# Load the CSV file\n",
    "file_path = 'vaccinations_global.csv'\n",
    "excel_data = pd.read_csv(file_path)\n",
    "\n",
    "# Initialize the DataFrame with the selected columns\n",
    "Vaccination_df = excel_data[['country', 'date', 'daily_vaccinations_smoothed']]\n"
   ]
  },
  {
   "cell_type": "code",
   "execution_count": 37,
   "id": "f5fef08d",
   "metadata": {},
   "outputs": [
    {
     "name": "stderr",
     "output_type": "stream",
     "text": [
      "C:\\Users\\sharm\\AppData\\Local\\Temp\\ipykernel_5148\\3279130956.py:1: SettingWithCopyWarning: \n",
      "A value is trying to be set on a copy of a slice from a DataFrame\n",
      "\n",
      "See the caveats in the documentation: https://pandas.pydata.org/pandas-docs/stable/user_guide/indexing.html#returning-a-view-versus-a-copy\n",
      "  Vaccination_df.rename(columns={'country': 'location','daily_vaccinations_smoothed':'daily_vaccinations'}, inplace=True)\n"
     ]
    },
    {
     "ename": "NameError",
     "evalue": "name 'accination_df' is not defined",
     "output_type": "error",
     "traceback": [
      "\u001b[1;31m---------------------------------------------------------------------------\u001b[0m",
      "\u001b[1;31mNameError\u001b[0m                                 Traceback (most recent call last)",
      "Input \u001b[1;32mIn [37]\u001b[0m, in \u001b[0;36m<cell line: 3>\u001b[1;34m()\u001b[0m\n\u001b[0;32m      1\u001b[0m Vaccination_df\u001b[38;5;241m.\u001b[39mrename(columns\u001b[38;5;241m=\u001b[39m{\u001b[38;5;124m'\u001b[39m\u001b[38;5;124mcountry\u001b[39m\u001b[38;5;124m'\u001b[39m: \u001b[38;5;124m'\u001b[39m\u001b[38;5;124mlocation\u001b[39m\u001b[38;5;124m'\u001b[39m,\u001b[38;5;124m'\u001b[39m\u001b[38;5;124mdaily_vaccinations_smoothed\u001b[39m\u001b[38;5;124m'\u001b[39m:\u001b[38;5;124m'\u001b[39m\u001b[38;5;124mdaily_vaccinations\u001b[39m\u001b[38;5;124m'\u001b[39m}, inplace\u001b[38;5;241m=\u001b[39m\u001b[38;5;28;01mTrue\u001b[39;00m)\n\u001b[1;32m----> 3\u001b[0m \u001b[43maccination_df\u001b[49m[\u001b[38;5;124m'\u001b[39m\u001b[38;5;124mdaily_vaccinations\u001b[39m\u001b[38;5;124m'\u001b[39m]\u001b[38;5;241m.\u001b[39mfillna(\u001b[38;5;241m0\u001b[39m, inplace\u001b[38;5;241m=\u001b[39m\u001b[38;5;28;01mTrue\u001b[39;00m)\n\u001b[0;32m      5\u001b[0m \u001b[38;5;66;03m# Round down decimal values to the nearest lower integer\u001b[39;00m\n\u001b[0;32m      6\u001b[0m vaccination_df[\u001b[38;5;124m'\u001b[39m\u001b[38;5;124mdaily_vaccinations\u001b[39m\u001b[38;5;124m'\u001b[39m] \u001b[38;5;241m=\u001b[39m np\u001b[38;5;241m.\u001b[39mfloor(vaccination_df[\u001b[38;5;124m'\u001b[39m\u001b[38;5;124mdaily_vaccinations\u001b[39m\u001b[38;5;124m'\u001b[39m])\u001b[38;5;241m.\u001b[39mastype(\u001b[38;5;28mint\u001b[39m)\n",
      "\u001b[1;31mNameError\u001b[0m: name 'accination_df' is not defined"
     ]
    }
   ],
   "source": [
    "Vaccination_df.rename(columns={'country': 'location','daily_vaccinations_smoothed':'daily_vaccinations'}, inplace=True)\n",
    "\n"
   ]
  },
  {
   "cell_type": "code",
   "execution_count": 40,
   "id": "65301e70",
   "metadata": {},
   "outputs": [
    {
     "name": "stderr",
     "output_type": "stream",
     "text": [
      "C:\\Users\\sharm\\AppData\\Local\\Temp\\ipykernel_5148\\171703304.py:1: FutureWarning: A value is trying to be set on a copy of a DataFrame or Series through chained assignment using an inplace method.\n",
      "The behavior will change in pandas 3.0. This inplace method will never work because the intermediate object on which we are setting values always behaves as a copy.\n",
      "\n",
      "For example, when doing 'df[col].method(value, inplace=True)', try using 'df.method({col: value}, inplace=True)' or df[col] = df[col].method(value) instead, to perform the operation inplace on the original object.\n",
      "\n",
      "\n",
      "  Vaccination_df['daily_vaccinations'].fillna(0, inplace=True)\n",
      "C:\\Users\\sharm\\AppData\\Local\\Temp\\ipykernel_5148\\171703304.py:1: SettingWithCopyWarning: \n",
      "A value is trying to be set on a copy of a slice from a DataFrame\n",
      "\n",
      "See the caveats in the documentation: https://pandas.pydata.org/pandas-docs/stable/user_guide/indexing.html#returning-a-view-versus-a-copy\n",
      "  Vaccination_df['daily_vaccinations'].fillna(0, inplace=True)\n",
      "C:\\Users\\sharm\\AppData\\Local\\Temp\\ipykernel_5148\\171703304.py:4: SettingWithCopyWarning: \n",
      "A value is trying to be set on a copy of a slice from a DataFrame.\n",
      "Try using .loc[row_indexer,col_indexer] = value instead\n",
      "\n",
      "See the caveats in the documentation: https://pandas.pydata.org/pandas-docs/stable/user_guide/indexing.html#returning-a-view-versus-a-copy\n",
      "  Vaccination_df['daily_vaccinations'] = np.floor(Vaccination_df['daily_vaccinations']).astype(int)\n"
     ]
    }
   ],
   "source": [
    "Vaccination_df['daily_vaccinations'].fillna(0, inplace=True)\n",
    "\n",
    "# Round down decimal values to the nearest lower integer\n",
    "Vaccination_df['daily_vaccinations'] = np.floor(Vaccination_df['daily_vaccinations']).astype(int)"
   ]
  },
  {
   "cell_type": "code",
   "execution_count": 41,
   "id": "aab5a495",
   "metadata": {},
   "outputs": [
    {
     "data": {
      "text/html": [
       "<div>\n",
       "<style scoped>\n",
       "    .dataframe tbody tr th:only-of-type {\n",
       "        vertical-align: middle;\n",
       "    }\n",
       "\n",
       "    .dataframe tbody tr th {\n",
       "        vertical-align: top;\n",
       "    }\n",
       "\n",
       "    .dataframe thead th {\n",
       "        text-align: right;\n",
       "    }\n",
       "</style>\n",
       "<table border=\"1\" class=\"dataframe\">\n",
       "  <thead>\n",
       "    <tr style=\"text-align: right;\">\n",
       "      <th></th>\n",
       "      <th>location</th>\n",
       "      <th>date</th>\n",
       "      <th>daily_vaccinations</th>\n",
       "    </tr>\n",
       "  </thead>\n",
       "  <tbody>\n",
       "    <tr>\n",
       "      <th>0</th>\n",
       "      <td>Afghanistan</td>\n",
       "      <td>2021-02-22</td>\n",
       "      <td>0</td>\n",
       "    </tr>\n",
       "    <tr>\n",
       "      <th>1</th>\n",
       "      <td>Afghanistan</td>\n",
       "      <td>2021-02-23</td>\n",
       "      <td>1366</td>\n",
       "    </tr>\n",
       "    <tr>\n",
       "      <th>2</th>\n",
       "      <td>Afghanistan</td>\n",
       "      <td>2021-02-24</td>\n",
       "      <td>1366</td>\n",
       "    </tr>\n",
       "    <tr>\n",
       "      <th>3</th>\n",
       "      <td>Afghanistan</td>\n",
       "      <td>2021-02-25</td>\n",
       "      <td>1366</td>\n",
       "    </tr>\n",
       "    <tr>\n",
       "      <th>4</th>\n",
       "      <td>Afghanistan</td>\n",
       "      <td>2021-02-26</td>\n",
       "      <td>1366</td>\n",
       "    </tr>\n",
       "  </tbody>\n",
       "</table>\n",
       "</div>"
      ],
      "text/plain": [
       "      location        date  daily_vaccinations\n",
       "0  Afghanistan  2021-02-22                   0\n",
       "1  Afghanistan  2021-02-23                1366\n",
       "2  Afghanistan  2021-02-24                1366\n",
       "3  Afghanistan  2021-02-25                1366\n",
       "4  Afghanistan  2021-02-26                1366"
      ]
     },
     "execution_count": 41,
     "metadata": {},
     "output_type": "execute_result"
    }
   ],
   "source": [
    "Vaccination_df.head()"
   ]
  },
  {
   "cell_type": "code",
   "execution_count": 43,
   "id": "a2ff84c2",
   "metadata": {},
   "outputs": [
    {
     "name": "stderr",
     "output_type": "stream",
     "text": [
      "C:\\Users\\sharm\\AppData\\Local\\Temp\\ipykernel_5148\\924176653.py:1: UserWarning: Pandas requires version '3.0.5' or newer of 'xlsxwriter' (version '3.0.3' currently installed).\n",
      "  Vaccination_df.to_excel('Vaccination_23.xlsx', index=False)\n"
     ]
    }
   ],
   "source": [
    "Vaccination_df.to_excel('Vaccination_23.xlsx', index=False)\n"
   ]
  },
  {
   "cell_type": "code",
   "execution_count": 27,
   "id": "3ebf9321",
   "metadata": {},
   "outputs": [
    {
     "name": "stdout",
     "output_type": "stream",
     "text": [
      "In Combined_df but not in Vaccination_df: ['Africa' 'Asia' 'Bahamas' 'Bonaire Sint Eustatius and Saba' 'Cape Verde'\n",
      " 'Congo' 'Czechia' 'Democratic Republic of Congo' 'East Timor' 'Europe'\n",
      " 'European Union (27)' 'Falkland Islands' 'Greenland' 'Guernsey'\n",
      " 'High-income countries' 'Isle of Man' 'Low-income countries'\n",
      " 'Lower-middle-income countries' 'Macao' 'Nauru' 'North America' 'Oceania'\n",
      " 'Saint Helena' 'San Marino' 'Sint Maarten (Dutch part)' 'South America'\n",
      " 'Tajikistan' 'Tokelau' 'Turkmenistan' 'Tuvalu' 'United States'\n",
      " 'Upper-middle-income countries' 'Wallis and Futuna' 'World' 'Yemen']\n",
      "In Vaccination_df but not in Combined_df: ['American Samoa' 'Bonaire' 'Cabo Verde' 'Canary Islands' 'Crimea'\n",
      " 'Czech Republic' 'Democratic Republic of the Congo' 'French Guiana'\n",
      " 'Guadeloupe' 'Guam' 'Marshall Islands' 'Martinique' 'Mayotte'\n",
      " 'Micronesia' 'Northern Mariana Islands' 'Palau' 'Puerto Rico'\n",
      " 'Republic of the Congo' 'Reunion' 'Saint Barthelemy' 'Saint Martin'\n",
      " 'Sint Maarten' 'The Bahamas' 'Timor-Leste' 'U.S. Virgin Islands' 'USA'\n",
      " 'Wallis and Futuna Islands']\n"
     ]
    }
   ],
   "source": [
    "import numpy as np\n",
    "\n",
    "# Define both arrays (ensure they are complete)\n",
    "dddd = np.array([Vaccination_df['country'].unique()])  # Fill in the array with all values\n",
    "ffff = np.array([combined_df['country'].unique()])  # Fill in the array with all values\n",
    "\n",
    "# Find differences\n",
    "in_combined_not_vaccination = np.setdiff1d(dddd, ffff)\n",
    "in_vaccination_not_combined = np.setdiff1d(ffff, dddd)\n",
    "\n",
    "print(\"In Combined_df but not in Vaccination_df:\", in_combined_not_vaccination)\n",
    "print(\"In Vaccination_df but not in Combined_df:\", in_vaccination_not_combined)\n"
   ]
  },
  {
   "cell_type": "code",
   "execution_count": 29,
   "id": "be26764b",
   "metadata": {},
   "outputs": [
    {
     "name": "stdout",
     "output_type": "stream",
     "text": [
      "<class 'pandas.core.frame.DataFrame'>\n",
      "RangeIndex: 453096 entries, 0 to 453095\n",
      "Data columns (total 4 columns):\n",
      " #   Column     Non-Null Count   Dtype         \n",
      "---  ------     --------------   -----         \n",
      " 0   Country    453096 non-null  object        \n",
      " 1   Attribute  453096 non-null  datetime64[ns]\n",
      " 2   Value      453096 non-null  int64         \n",
      " 3   Variant    453096 non-null  object        \n",
      "dtypes: datetime64[ns](1), int64(1), object(2)\n",
      "memory usage: 13.8+ MB\n"
     ]
    }
   ],
   "source": [
    "\n",
    "import numpy as np\n",
    "\n",
    "df1 = pd.read_excel(r'C:\\Users\\sharm\\Documents\\My Folder\\Project_SARS\\Combined_all.xlsx')\n",
    "df2 = pd.read_excel(r'C:\\Users\\sharm\\Documents\\My Folder\\Project_SARS\\Vaccination_22.xlsx')\n",
    "\n",
    "\n",
    "\n",
    "\n"
   ]
  },
  {
   "cell_type": "code",
   "execution_count": null,
   "id": "1e91a584",
   "metadata": {},
   "outputs": [],
   "source": [
    "df1.info()\n"
   ]
  },
  {
   "cell_type": "code",
   "execution_count": 30,
   "id": "1a83a921",
   "metadata": {},
   "outputs": [
    {
     "name": "stdout",
     "output_type": "stream",
     "text": [
      "<class 'pandas.core.frame.DataFrame'>\n",
      "RangeIndex: 160730 entries, 0 to 160729\n",
      "Data columns (total 3 columns):\n",
      " #   Column              Non-Null Count   Dtype         \n",
      "---  ------              --------------   -----         \n",
      " 0   location            160730 non-null  object        \n",
      " 1   date                160730 non-null  datetime64[ns]\n",
      " 2   daily_vaccinations  160730 non-null  int64         \n",
      "dtypes: datetime64[ns](1), int64(1), object(1)\n",
      "memory usage: 3.7+ MB\n"
     ]
    }
   ],
   "source": [
    "df2.info()\n"
   ]
  },
  {
   "cell_type": "code",
   "execution_count": 31,
   "id": "3b406576",
   "metadata": {},
   "outputs": [
    {
     "name": "stdout",
     "output_type": "stream",
     "text": [
      "In Combined_df but not in Vaccination_df: ['American Samoa' 'Bonaire' 'Cabo Verde' 'Canary Islands' 'Crimea'\n",
      " 'Czech Republic' 'Democratic Republic of the Congo' 'Faroe Islands'\n",
      " 'French Guiana' 'Guadeloupe' 'Guam' 'Marshall Islands' 'Martinique'\n",
      " 'Mayotte' 'Micronesia' 'Northern Mariana Islands' 'Palau' 'Puerto Rico'\n",
      " 'Republic of the Congo' 'Reunion' 'Saint Barthelemy' 'Saint Martin'\n",
      " 'Sint Maarten' 'The Bahamas' 'Timor-Leste' 'U.S. Virgin Islands'\n",
      " 'Wallis and Futuna Islands']\n",
      "In Vaccination_df but not in Combined_df: ['Bahamas' 'Bonaire Sint Eustatius and Saba' 'Cape Verde' 'Congo'\n",
      " 'Cook Islands' 'Czechia' 'Democratic Republic of Congo' 'England'\n",
      " 'Faeroe Islands' 'Falkland Islands' 'Greenland' 'Guernsey' 'Isle of Man'\n",
      " 'Jersey' 'Nauru' 'Niue' 'Northern Cyprus' 'Northern Ireland' 'Oceania'\n",
      " 'Pitcairn' 'Saint Helena' 'Samoa' 'San Marino' 'Scotland'\n",
      " 'Sint Maarten (Dutch part)' 'Tajikistan' 'Timor' 'Tokelau' 'Tonga'\n",
      " 'Turkmenistan' 'Tuvalu' 'Wales' 'Wallis and Futuna' 'Yemen']\n"
     ]
    }
   ],
   "source": [
    "# Define both arrays (ensure they are complete)\n",
    "dddd = np.array([df1['Country'].unique()])  # Fill in the array with all values\n",
    "ffff = np.array([df2['location'].unique()])  # Fill in the array with all values\n",
    "\n",
    "# Find differences\n",
    "in_combined_not_vaccination = np.setdiff1d(dddd, ffff)\n",
    "in_vaccination_not_combined = np.setdiff1d(ffff, dddd)\n",
    "\n",
    "print(\"In Combined_df but not in Vaccination_df:\", in_combined_not_vaccination)\n",
    "print(\"In Vaccination_df but not in Combined_df:\", in_vaccination_not_combined)"
   ]
  },
  {
   "cell_type": "code",
   "execution_count": 54,
   "id": "62bebf11",
   "metadata": {},
   "outputs": [
    {
     "name": "stderr",
     "output_type": "stream",
     "text": [
      "C:\\Users\\sharm\\AppData\\Local\\Temp\\ipykernel_5148\\2093859242.py:2: SettingWithCopyWarning: \n",
      "A value is trying to be set on a copy of a slice from a DataFrame.\n",
      "Try using .loc[row_indexer,col_indexer] = value instead\n",
      "\n",
      "See the caveats in the documentation: https://pandas.pydata.org/pandas-docs/stable/user_guide/indexing.html#returning-a-view-versus-a-copy\n",
      "  Vaccination_df['location'] = Vaccination_df['location'].replace('USA', 'United States')\n"
     ]
    },
    {
     "data": {
      "text/plain": [
       "array(['Afghanistan', 'Africa', 'Albania', 'Algeria', 'Andorra', 'Angola',\n",
       "       'Anguilla', 'Antigua and Barbuda', 'Argentina', 'Armenia', 'Aruba',\n",
       "       'Asia', 'Australia', 'Austria', 'Azerbaijan', 'Bahamas', 'Bahrain',\n",
       "       'Bangladesh', 'Barbados', 'Belarus', 'Belgium', 'Belize', 'Benin',\n",
       "       'Bermuda', 'Bhutan', 'Bolivia', 'Bonaire Sint Eustatius and Saba',\n",
       "       'Bosnia and Herzegovina', 'Botswana', 'Brazil',\n",
       "       'British Virgin Islands', 'Brunei', 'Bulgaria', 'Burkina Faso',\n",
       "       'Burundi', 'Cambodia', 'Cameroon', 'Canada', 'Cape Verde',\n",
       "       'Cayman Islands', 'Central African Republic', 'Chad', 'Chile',\n",
       "       'China', 'Colombia', 'Comoros', 'Congo', 'Cook Islands',\n",
       "       'Costa Rica', \"Cote d'Ivoire\", 'Croatia', 'Cuba', 'Curacao',\n",
       "       'Cyprus', 'Czechia', 'Democratic Republic of Congo', 'Denmark',\n",
       "       'Djibouti', 'Dominica', 'Dominican Republic', 'East Timor',\n",
       "       'Ecuador', 'Egypt', 'El Salvador', 'Equatorial Guinea', 'Estonia',\n",
       "       'Eswatini', 'Ethiopia', 'Europe', 'European Union (27)',\n",
       "       'Falkland Islands', 'Faroe Islands', 'Fiji', 'Finland', 'France',\n",
       "       'French Polynesia', 'Gabon', 'Gambia', 'Georgia', 'Germany',\n",
       "       'Ghana', 'Gibraltar', 'Greece', 'Greenland', 'Grenada',\n",
       "       'Guatemala', 'Guernsey', 'Guinea', 'Guinea-Bissau', 'Guyana',\n",
       "       'Haiti', 'High-income countries', 'Honduras', 'Hong Kong',\n",
       "       'Hungary', 'Iceland', 'India', 'Indonesia', 'Iran', 'Iraq',\n",
       "       'Ireland', 'Isle of Man', 'Israel', 'Italy', 'Jamaica', 'Japan',\n",
       "       'Jersey', 'Jordan', 'Kazakhstan', 'Kenya', 'Kiribati', 'Kosovo',\n",
       "       'Kuwait', 'Kyrgyzstan', 'Laos', 'Latvia', 'Lebanon', 'Lesotho',\n",
       "       'Liberia', 'Libya', 'Liechtenstein', 'Lithuania',\n",
       "       'Low-income countries', 'Lower-middle-income countries',\n",
       "       'Luxembourg', 'Macao', 'Madagascar', 'Malawi', 'Malaysia',\n",
       "       'Maldives', 'Mali', 'Malta', 'Mauritania', 'Mauritius', 'Mexico',\n",
       "       'Moldova', 'Monaco', 'Mongolia', 'Montenegro', 'Montserrat',\n",
       "       'Morocco', 'Mozambique', 'Myanmar', 'Namibia', 'Nauru', 'Nepal',\n",
       "       'Netherlands', 'New Caledonia', 'New Zealand', 'Nicaragua',\n",
       "       'Niger', 'Nigeria', 'Niue', 'North America', 'North Macedonia',\n",
       "       'Norway', 'Oceania', 'Oman', 'Pakistan', 'Palestine', 'Panama',\n",
       "       'Papua New Guinea', 'Paraguay', 'Peru', 'Philippines', 'Poland',\n",
       "       'Portugal', 'Qatar', 'Romania', 'Russia', 'Rwanda', 'Saint Helena',\n",
       "       'Saint Kitts and Nevis', 'Saint Lucia',\n",
       "       'Saint Vincent and the Grenadines', 'Samoa', 'San Marino',\n",
       "       'Sao Tome and Principe', 'Saudi Arabia', 'Senegal', 'Serbia',\n",
       "       'Seychelles', 'Sierra Leone', 'Singapore',\n",
       "       'Sint Maarten (Dutch part)', 'Slovakia', 'Slovenia',\n",
       "       'Solomon Islands', 'Somalia', 'South Africa', 'South America',\n",
       "       'South Korea', 'South Sudan', 'Spain', 'Sri Lanka', 'Sudan',\n",
       "       'Suriname', 'Sweden', 'Switzerland', 'Syria', 'Taiwan',\n",
       "       'Tajikistan', 'Tanzania', 'Thailand', 'Togo', 'Tokelau', 'Tonga',\n",
       "       'Trinidad and Tobago', 'Tunisia', 'Turkey', 'Turkmenistan',\n",
       "       'Turks and Caicos Islands', 'Tuvalu', 'Uganda', 'Ukraine',\n",
       "       'United Arab Emirates', 'United Kingdom', 'United States',\n",
       "       'Upper-middle-income countries', 'Uruguay', 'Uzbekistan',\n",
       "       'Vanuatu', 'Venezuela', 'Vietnam', 'Wallis and Futuna', 'World',\n",
       "       'Yemen', 'Zambia', 'Zimbabwe'], dtype=object)"
      ]
     },
     "execution_count": 54,
     "metadata": {},
     "output_type": "execute_result"
    }
   ],
   "source": [
    "# Replace 'USA' with 'United States' in the 'country' column\n",
    "Vaccination_df['location'] = Vaccination_df['location'].replace('USA', 'United States')\n",
    "\n",
    "# Display the DataFrame to confirm the change\n",
    "Vaccination_df['location'].unique()\n"
   ]
  },
  {
   "cell_type": "code",
   "execution_count": 60,
   "id": "0d88f4b8",
   "metadata": {},
   "outputs": [
    {
     "name": "stdout",
     "output_type": "stream",
     "text": [
      "<class 'pandas.core.frame.DataFrame'>\n",
      "RangeIndex: 160730 entries, 0 to 160729\n",
      "Data columns (total 3 columns):\n",
      " #   Column              Non-Null Count   Dtype         \n",
      "---  ------              --------------   -----         \n",
      " 0   location            160730 non-null  object        \n",
      " 1   date                160730 non-null  datetime64[ns]\n",
      " 2   daily_vaccinations  160730 non-null  int64         \n",
      "dtypes: datetime64[ns](1), int64(1), object(1)\n",
      "memory usage: 3.7+ MB\n"
     ]
    }
   ],
   "source": [
    "df2.info()"
   ]
  },
  {
   "cell_type": "code",
   "execution_count": 61,
   "id": "8c5ab7bc",
   "metadata": {},
   "outputs": [
    {
     "name": "stdout",
     "output_type": "stream",
     "text": [
      "<class 'pandas.core.frame.DataFrame'>\n",
      "RangeIndex: 453096 entries, 0 to 453095\n",
      "Data columns (total 4 columns):\n",
      " #   Column     Non-Null Count   Dtype         \n",
      "---  ------     --------------   -----         \n",
      " 0   Country    453096 non-null  object        \n",
      " 1   Attribute  453096 non-null  datetime64[ns]\n",
      " 2   Value      453096 non-null  int64         \n",
      " 3   Variant    453096 non-null  object        \n",
      "dtypes: datetime64[ns](1), int64(1), object(2)\n",
      "memory usage: 13.8+ MB\n"
     ]
    }
   ],
   "source": [
    "df1.info()"
   ]
  },
  {
   "cell_type": "code",
   "execution_count": 67,
   "id": "85646581",
   "metadata": {},
   "outputs": [
    {
     "name": "stdout",
     "output_type": "stream",
     "text": [
      "<class 'pandas.core.frame.DataFrame'>\n",
      "RangeIndex: 309880 entries, 0 to 309879\n",
      "Data columns (total 4 columns):\n",
      " #   Column   Non-Null Count   Dtype         \n",
      "---  ------   --------------   -----         \n",
      " 0   country  309880 non-null  object        \n",
      " 1   Date     309880 non-null  datetime64[ns]\n",
      " 2   Value    309880 non-null  float64       \n",
      " 3   Variant  309880 non-null  object        \n",
      "dtypes: datetime64[ns](1), float64(1), object(2)\n",
      "memory usage: 9.5+ MB\n"
     ]
    }
   ],
   "source": [
    "combined_df.info()"
   ]
  },
  {
   "cell_type": "code",
   "execution_count": 63,
   "id": "91523677",
   "metadata": {},
   "outputs": [],
   "source": [
    "combined_df['Date'] = pd.to_datetime(combined_df['Date'], errors='coerce')"
   ]
  },
  {
   "cell_type": "code",
   "execution_count": 64,
   "id": "130e3ac5",
   "metadata": {},
   "outputs": [
    {
     "name": "stderr",
     "output_type": "stream",
     "text": [
      "C:\\Users\\sharm\\AppData\\Local\\Temp\\ipykernel_5148\\3864680177.py:1: SettingWithCopyWarning: \n",
      "A value is trying to be set on a copy of a slice from a DataFrame.\n",
      "Try using .loc[row_indexer,col_indexer] = value instead\n",
      "\n",
      "See the caveats in the documentation: https://pandas.pydata.org/pandas-docs/stable/user_guide/indexing.html#returning-a-view-versus-a-copy\n",
      "  Vaccination_df['date'] = pd.to_datetime(Vaccination_df['date'], errors='coerce')\n"
     ]
    }
   ],
   "source": [
    "Vaccination_df['date'] = pd.to_datetime(Vaccination_df['date'], errors='coerce')"
   ]
  },
  {
   "cell_type": "code",
   "execution_count": 68,
   "id": "5cd11e7f",
   "metadata": {},
   "outputs": [],
   "source": [
    "combined_df.rename(columns={'country': 'Country','Date':'Attribute'}, inplace=True)\n",
    "\n"
   ]
  },
  {
   "cell_type": "code",
   "execution_count": 69,
   "id": "4bb6ecc0",
   "metadata": {},
   "outputs": [
    {
     "name": "stdout",
     "output_type": "stream",
     "text": [
      "<class 'pandas.core.frame.DataFrame'>\n",
      "RangeIndex: 309880 entries, 0 to 309879\n",
      "Data columns (total 4 columns):\n",
      " #   Column     Non-Null Count   Dtype         \n",
      "---  ------     --------------   -----         \n",
      " 0   Country    309880 non-null  object        \n",
      " 1   Attribute  309880 non-null  datetime64[ns]\n",
      " 2   Value      309880 non-null  float64       \n",
      " 3   Variant    309880 non-null  object        \n",
      "dtypes: datetime64[ns](1), float64(1), object(2)\n",
      "memory usage: 9.5+ MB\n"
     ]
    }
   ],
   "source": [
    "combined_df.info()"
   ]
  },
  {
   "cell_type": "code",
   "execution_count": 70,
   "id": "4c6f0e6d",
   "metadata": {},
   "outputs": [
    {
     "name": "stdout",
     "output_type": "stream",
     "text": [
      "<class 'pandas.core.frame.DataFrame'>\n",
      "RangeIndex: 453096 entries, 0 to 453095\n",
      "Data columns (total 4 columns):\n",
      " #   Column     Non-Null Count   Dtype         \n",
      "---  ------     --------------   -----         \n",
      " 0   Country    453096 non-null  object        \n",
      " 1   Attribute  453096 non-null  datetime64[ns]\n",
      " 2   Value      453096 non-null  int64         \n",
      " 3   Variant    453096 non-null  object        \n",
      "dtypes: datetime64[ns](1), int64(1), object(2)\n",
      "memory usage: 13.8+ MB\n"
     ]
    }
   ],
   "source": [
    "df1.info()"
   ]
  },
  {
   "cell_type": "code",
   "execution_count": 83,
   "id": "ba175a08",
   "metadata": {},
   "outputs": [],
   "source": [
    "\n",
    "max_date_df1 = df1['Attribute'].max()\n",
    "\n",
    "filtered_combined_df = combined_df[combined_df['Attribute'] > max_date_df1]\n",
    "\n",
    "unique_countries_df1 = df1['Country'].unique()\n",
    "\n",
    "filtered_combined_df = filtered_combined_df[filtered_combined_df['Country'].isin(unique_countries_df1)]\n",
    "\n",
    "\n",
    "merged_df = pd.concat([df1, filtered_combined_df], ignore_index=True)\n",
    "\n",
    "\n"
   ]
  },
  {
   "cell_type": "code",
   "execution_count": 90,
   "id": "dc1273a7",
   "metadata": {},
   "outputs": [
    {
     "data": {
      "text/plain": [
       "Timestamp('2019-12-29 00:00:00')"
      ]
     },
     "execution_count": 90,
     "metadata": {},
     "output_type": "execute_result"
    }
   ],
   "source": [
    "df1['Attribute'].min()"
   ]
  },
  {
   "cell_type": "code",
   "execution_count": 91,
   "id": "9d296832",
   "metadata": {},
   "outputs": [
    {
     "data": {
      "text/plain": [
       "Timestamp('2019-12-29 00:00:00')"
      ]
     },
     "execution_count": 91,
     "metadata": {},
     "output_type": "execute_result"
    }
   ],
   "source": [
    "merged_df['Attribute'].min()"
   ]
  },
  {
   "cell_type": "code",
   "execution_count": 84,
   "id": "8f087225",
   "metadata": {},
   "outputs": [
    {
     "data": {
      "text/html": [
       "<div>\n",
       "<style scoped>\n",
       "    .dataframe tbody tr th:only-of-type {\n",
       "        vertical-align: middle;\n",
       "    }\n",
       "\n",
       "    .dataframe tbody tr th {\n",
       "        vertical-align: top;\n",
       "    }\n",
       "\n",
       "    .dataframe thead th {\n",
       "        text-align: right;\n",
       "    }\n",
       "</style>\n",
       "<table border=\"1\" class=\"dataframe\">\n",
       "  <thead>\n",
       "    <tr style=\"text-align: right;\">\n",
       "      <th></th>\n",
       "      <th>location</th>\n",
       "      <th>date</th>\n",
       "      <th>daily_vaccinations</th>\n",
       "    </tr>\n",
       "  </thead>\n",
       "  <tbody>\n",
       "    <tr>\n",
       "      <th>0</th>\n",
       "      <td>Norway</td>\n",
       "      <td>2020-12-02</td>\n",
       "      <td>0</td>\n",
       "    </tr>\n",
       "    <tr>\n",
       "      <th>1</th>\n",
       "      <td>Norway</td>\n",
       "      <td>2020-12-03</td>\n",
       "      <td>1</td>\n",
       "    </tr>\n",
       "    <tr>\n",
       "      <th>2</th>\n",
       "      <td>Latvia</td>\n",
       "      <td>2020-12-04</td>\n",
       "      <td>0</td>\n",
       "    </tr>\n",
       "    <tr>\n",
       "      <th>3</th>\n",
       "      <td>Norway</td>\n",
       "      <td>2020-12-04</td>\n",
       "      <td>1</td>\n",
       "    </tr>\n",
       "    <tr>\n",
       "      <th>4</th>\n",
       "      <td>Latvia</td>\n",
       "      <td>2020-12-05</td>\n",
       "      <td>0</td>\n",
       "    </tr>\n",
       "  </tbody>\n",
       "</table>\n",
       "</div>"
      ],
      "text/plain": [
       "  location       date  daily_vaccinations\n",
       "0   Norway 2020-12-02                   0\n",
       "1   Norway 2020-12-03                   1\n",
       "2   Latvia 2020-12-04                   0\n",
       "3   Norway 2020-12-04                   1\n",
       "4   Latvia 2020-12-05                   0"
      ]
     },
     "execution_count": 84,
     "metadata": {},
     "output_type": "execute_result"
    }
   ],
   "source": [
    "\n",
    "max_date_df2 = df2['date'].max()\n",
    "\n",
    "filtered_combined_df2 = Vaccination_df[Vaccination_df['date'] > max_date_df2]\n",
    "\n",
    "unique_countries_df2 = df2['location'].unique()\n",
    "\n",
    "\n",
    "filtered_combined_df2 = filtered_combined_df2[filtered_combined_df2['location'].isin(unique_countries_df2)]\n",
    "\n",
    "\n",
    "merged_df2 = pd.concat([df2, filtered_combined_df2], ignore_index=True)\n",
    "\n",
    "merged_df2.head()"
   ]
  },
  {
   "cell_type": "code",
   "execution_count": 85,
   "id": "55a913e0",
   "metadata": {},
   "outputs": [
    {
     "data": {
      "text/plain": [
       "Timestamp('2024-08-12 00:00:00')"
      ]
     },
     "execution_count": 85,
     "metadata": {},
     "output_type": "execute_result"
    }
   ],
   "source": [
    "merged_df2['date'].max()"
   ]
  },
  {
   "cell_type": "code",
   "execution_count": 86,
   "id": "5894caee",
   "metadata": {},
   "outputs": [
    {
     "name": "stdout",
     "output_type": "stream",
     "text": [
      "<class 'pandas.core.frame.DataFrame'>\n",
      "RangeIndex: 184637 entries, 0 to 184636\n",
      "Data columns (total 3 columns):\n",
      " #   Column              Non-Null Count   Dtype         \n",
      "---  ------              --------------   -----         \n",
      " 0   location            184637 non-null  object        \n",
      " 1   date                184637 non-null  datetime64[ns]\n",
      " 2   daily_vaccinations  184637 non-null  int64         \n",
      "dtypes: datetime64[ns](1), int64(1), object(1)\n",
      "memory usage: 4.2+ MB\n"
     ]
    }
   ],
   "source": [
    "merged_df2.info()"
   ]
  },
  {
   "cell_type": "code",
   "execution_count": 87,
   "id": "6511a9f4",
   "metadata": {},
   "outputs": [
    {
     "name": "stdout",
     "output_type": "stream",
     "text": [
      "<class 'pandas.core.frame.DataFrame'>\n",
      "RangeIndex: 160730 entries, 0 to 160729\n",
      "Data columns (total 3 columns):\n",
      " #   Column              Non-Null Count   Dtype         \n",
      "---  ------              --------------   -----         \n",
      " 0   location            160730 non-null  object        \n",
      " 1   date                160730 non-null  datetime64[ns]\n",
      " 2   daily_vaccinations  160730 non-null  int64         \n",
      "dtypes: datetime64[ns](1), int64(1), object(1)\n",
      "memory usage: 3.7+ MB\n"
     ]
    }
   ],
   "source": [
    "df2.info()"
   ]
  },
  {
   "cell_type": "code",
   "execution_count": 88,
   "id": "e96b5441",
   "metadata": {},
   "outputs": [
    {
     "name": "stderr",
     "output_type": "stream",
     "text": [
      "C:\\Users\\sharm\\AppData\\Local\\Temp\\ipykernel_5148\\2172637706.py:1: UserWarning: Pandas requires version '3.0.5' or newer of 'xlsxwriter' (version '3.0.3' currently installed).\n",
      "  merged_df.to_excel('Variant.xlsx', index=False)\n"
     ]
    }
   ],
   "source": [
    "merged_df.to_excel('Variant.xlsx', index=False)\n"
   ]
  },
  {
   "cell_type": "code",
   "execution_count": 89,
   "id": "e09f43ef",
   "metadata": {},
   "outputs": [
    {
     "name": "stderr",
     "output_type": "stream",
     "text": [
      "C:\\Users\\sharm\\AppData\\Local\\Temp\\ipykernel_5148\\2652722535.py:1: UserWarning: Pandas requires version '3.0.5' or newer of 'xlsxwriter' (version '3.0.3' currently installed).\n",
      "  merged_df2.to_excel('Vaccination_24.xlsx', index=False)\n"
     ]
    }
   ],
   "source": [
    "merged_df2.to_excel('Vaccination_24.xlsx', index=False)\n"
   ]
  },
  {
   "cell_type": "code",
   "execution_count": null,
   "id": "f2f1c8eb",
   "metadata": {},
   "outputs": [],
   "source": []
  },
  {
   "cell_type": "code",
   "execution_count": null,
   "id": "e3976559",
   "metadata": {},
   "outputs": [],
   "source": []
  }
 ],
 "metadata": {
  "kernelspec": {
   "display_name": "Python 3 (ipykernel)",
   "language": "python",
   "name": "python3"
  },
  "language_info": {
   "codemirror_mode": {
    "name": "ipython",
    "version": 3
   },
   "file_extension": ".py",
   "mimetype": "text/x-python",
   "name": "python",
   "nbconvert_exporter": "python",
   "pygments_lexer": "ipython3",
   "version": "3.9.12"
  }
 },
 "nbformat": 4,
 "nbformat_minor": 5
}
